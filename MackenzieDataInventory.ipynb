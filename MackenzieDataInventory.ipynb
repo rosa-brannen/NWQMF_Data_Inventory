{
 "cells": [
  {
   "cell_type": "markdown",
   "id": "dd374841-669c-47a7-b563-9e5e72570706",
   "metadata": {},
   "source": [
    "# Mackenzie Basin water quality data inventory "
   ]
  },
  {
   "cell_type": "markdown",
   "id": "efb6dc75-60fc-4903-9956-443de2bdc683",
   "metadata": {},
   "source": [
    "1. Existing databases\n",
    "| Data originator | Regional (location)/ Canada-wide | Variables | Obs freq |  Obs timespan | Obs scale | Data location/link | \n",
    "| -- | -- | -- | -- | -- | --  | -- |\n",
    "| ArcticGro (formerly PARTNERS) | Mackenzie River outlet (67.45 N 133.74 W) | POC, PON, water isotopes, TSS, DOC, Alkalinity, inorg nutrients, TDN, TDP, major ions and trace elements | Up to 7x/yr | 2003-2022 | Point | https://arcticgreatrivers.org/data/\n",
    "| GWNT Community-based monitoring | 40 sites on 24 NWT rivers and lakes | Chlorophyll, conductivity, dissolved oxygen, oxidation-reduction potential, pH, turbidity, water temperature, mercury, organochlorine pesticides, PAHs, trace metals, PCBS | - | 2012 - present | Point | https://nwtdiscoveryportal.enr.gov.nt.ca/geoportal/catalog/main/home.page also on Mackenzie Datastream |  \n",
    "| BC Environmental Monitoring System | 100+ locations, river and lake | various | various | various | Point | https://www2.gov.bc.ca/gov/content/environment/research-monitoring-reporting/monitoring/environmental-monitoring-system |\n",
    "| Mackenzie DataStream | 2000+ sampling locations | various | various | various | Point | https://mackenziedatastream.ca/en/ |\n",
    "| Alberta Environment water quality portal | ~10 rivers/streams, 100+ lakes/resevoirs | Various | Various | 1960 - present | Point | https://environment.extranet.gov.ab.ca/apps/WaterQuality/dataportal/ |\n",
    "| SK Water Security Agency water quality information | 1 primary location (Athabasca basin), Great Slave Lake basin | Various | 1x/yr | 1990s to present | Point | https://www.saskatchewan.ca/residents/environment-public-health-and-safety/environmental-health/water-and-wastewater-management/water-quality-information | "
   ]
  },
  {
   "cell_type": "markdown",
   "id": "d1217d01-8916-424d-b1ad-355d51262a54",
   "metadata": {},
   "source": [
    "- ArcticGro\n",
    "- GNWT Community based monitoring \n",
    "- British Columbia EMS \n",
    "- Mackenzie datastream\n",
    "- Albert Environment water quality portal\n",
    "- SK Water Security Agency water quality information\n",
    "- Peace River Regional District water quality database (not accesible, data from BC EMS) \n"
   ]
  },
  {
   "cell_type": "markdown",
   "id": "c28e2243-fb2e-4a65-91e8-7500b9fc86aa",
   "metadata": {},
   "source": [
    "2. Open data portal (open.canada.ca)\n",
    "\n",
    "| Data originator | Regional (location)/ Canada-wide | Variables | Obs freq |  Obs timespan | Obs scale | Data location/link | \n",
    "| -- | -- | -- | -- | -- | --  | -- |\n",
    "| Lower Mackenzie River Basin Long-term Water Quality Monitoring Data - Canada's North | 19 sites in the Lower Mackenzie River Basin | Nutrients, metals, major ions, and other physical-chemical variables| Up to 5x/yr | 2000 to present | Point | (https://open.canada.ca/data/en/dataset/0177c195-13a8-4078-aa85-80b17e9e2cfe) \n",
    "| Peace - Athabasca River Basin Long-term Water Quality Monitoring Data | 5+ sites in the Peace - Athabasca River Basin |  Nutrients, metals, major ions, and other physical-chemical variables| Up to 5x/yr | 2000 to present | Point | https://data-donnees.ec.gc.ca/data/substances/monitor/national-long-term-water-quality-monitoring-data/peace-athabasca-river-basin-long-term-water-quality-monitoring-data/?lang=en |"
   ]
  },
  {
   "cell_type": "markdown",
   "id": "9e2056c8-f9a6-4554-abc8-97060dc77469",
   "metadata": {},
   "source": [
    "3. Misc. datasets\n",
    "\n",
    "| Data originator | Regional (location)/ Canada-wide | Variables | Obs freq |  Obs timespan | Obs scale | Data location/link | \n",
    "| -- | -- | -- | -- | -- | -- | -- |\n",
    "| Shrestha, Rajesh et al. | Hay, Liard, Peel basin outlets | TP, DOC | 6x/yr | The periods of records used correspond to the length of all available records, which for TP (DOC) consisted of the periods 1988–2012 (1988–2012), 1972–2012 (1979–2012) and 1979–2012 (1979–2012) respectively, for the Hay, Liard and Peel Rivers | Point | Modelling historical variability of phosphorus and organic carbon fluxes to the Mackenzie River, Canada https://www.canada.ca/en/environment-climate-change/services/freshwater-quality-monitoring/online-data.html |\n",
    "| Li Yung Lung et al. | Peel, Mackenzie watersheds | Alkalinity, DOC, Na, SO4, Ca, Mg | 3 - 7x/yr | 1960 - 2015 | Point  | https://agupubs.onlinelibrary.wiley.com/doi/full/10.1029/2018JG004659 | "
   ]
  },
  {
   "cell_type": "code",
   "execution_count": null,
   "id": "e743856c-2bb7-404a-bd76-7e0005c74d87",
   "metadata": {},
   "outputs": [],
   "source": []
  }
 ],
 "metadata": {
  "kernelspec": {
   "display_name": "Python 3 (ipykernel)",
   "language": "python",
   "name": "python3"
  },
  "language_info": {
   "codemirror_mode": {
    "name": "ipython",
    "version": 3
   },
   "file_extension": ".py",
   "mimetype": "text/x-python",
   "name": "python",
   "nbconvert_exporter": "python",
   "pygments_lexer": "ipython3",
   "version": "3.9.7"
  }
 },
 "nbformat": 4,
 "nbformat_minor": 5
}
